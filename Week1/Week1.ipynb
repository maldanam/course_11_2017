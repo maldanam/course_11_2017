{
 "cells": [
  {
   "cell_type": "markdown",
   "metadata": {
    "_cell_guid": "d0fff099-32b4-4d5f-94f2-dc957e8d7b58",
    "_uuid": "0a7336426503aa654b923d813483e106306716f9"
   },
   "source": [
    "# Week 1 - The What Why and when of Machine Learning\n",
    "Main idea is to follow that notebook in order to have an initial aproach -  this doesn't means that you only have to answer to the questions or implement code. Feel free to add all the interesting content that you find and take conclusions from the data. Please just use this as a template"
   ]
  },
  {
   "cell_type": "markdown",
   "metadata": {},
   "source": [
    "# 0. Library import and list input files"
   ]
  },
  {
   "cell_type": "code",
   "execution_count": null,
   "metadata": {
    "_cell_guid": "a4c3c51c-f465-4cfc-913a-ee1225e57724",
    "_uuid": "15592da27c5f06e6ab4fb0a293a851cc8489453b"
   },
   "outputs": [],
   "source": [
    "import sys\n",
    "import numpy as np # linear algebra\n",
    "import pandas as pd # data processing, CSV file I/O (e.g. pd.read_csv)\n",
    "import random\n",
    "import matplotlib.pyplot as plt\n",
    "import seaborn as sns\n",
    "import sys\n",
    "\n",
    "#Pandas more columns\n",
    "pd.options.display.max_columns = None\n",
    "pd.set_option('display.max_columns', None)\n",
    "\n",
    "# Add input as import path\n",
    "sys.path.insert(0,'../input')\n",
    "\n",
    "# Plot style\n",
    "plt.style.use('fivethirtyeight')\n",
    "\n",
    "# Input data files are available in the \"../input/\" directory. Only linux\n",
    "# from subprocess import check_output\n",
    "# print(check_output([\"ls\", \"../input\"]).decode(\"utf8\"))\n"
   ]
  },
  {
   "cell_type": "markdown",
   "metadata": {
    "_cell_guid": "d96be262-1ded-4cd3-9193-03d7dc0b86bb",
    "_uuid": "823783aab011b613db23022d071be8684faa60e0"
   },
   "source": [
    "# 1. Data import and first impressions"
   ]
  },
  {
   "cell_type": "markdown",
   "metadata": {
    "_cell_guid": "b764727f-3455-4d7b-8eac-101b52644cf4",
    "_uuid": "028fec15cf0c5f625c122db5e726c9e6f1073905"
   },
   "source": [
    "### 1.1 Load dataset and have an overview.\n",
    "Objectives:\n",
    "* Load the data\n",
    "* Understand the data\n",
    "\n",
    "Questions:\n",
    "* Q1: How many people in your training set have survived the Titanic disaster?\n",
    "* Q2: How many samples we have?\n",
    "* Q3: Average age.\n"
   ]
  },
  {
   "cell_type": "code",
   "execution_count": null,
   "metadata": {
    "_cell_guid": "ac3cbd95-2242-4251-90ca-dd65c34e17b3",
    "_uuid": "6745659346d0b3d3a9b6424ce123307f20be533f"
   },
   "outputs": [],
   "source": [
    "# Import the data from the dataset\n",
    "train_data = pd.read_csv('../input/train.csv',index_col='id')\n",
    "test_data = pd.read_csv('../input/test.csv',index_col='id')\n",
    "display(train_data)\n",
    "\n",
    "# ToDO 1: Show the fist n entries of the table\n",
    "n = random.randint(1,9)\n",
    "\n",
    "# ToDo 2: Rename the attributes with a fancy name\n",
    "\n",
    "# Todo 3: Questions"
   ]
  },
  {
   "cell_type": "markdown",
   "metadata": {
    "_cell_guid": "9242a038-33c8-4c6c-aead-2c158e44a235",
    "_uuid": "0397e081ac05df2d7a0aedd22538f75925a85ea5"
   },
   "source": [
    "### 1.2 Plot the data\n",
    "Objectives:\n",
    "\n",
    "* Divide the features in two categories: numerical and categorical.\n",
    "* Represent each one of the features with one plot.\n",
    "* Create a new boolean feature named Child that the defines if the passenger is a kid or not.\n",
    "\n",
    "Notes:\n",
    "\n",
    "Try to show multiple plots using the :\n",
    "```\n",
    "fig = plt.figure(figsize=(18,18))\n",
    "sns.distplot(train_data[column].dropna(),ax=plt.subplot(221));\n",
    "```\n",
    "\n"
   ]
  },
  {
   "cell_type": "markdown",
   "metadata": {
    "_cell_guid": "e4f834bf-f5c4-4cab-9604-273f57b3536e",
    "_uuid": "85102196e9d859d0be7bcc637006e657dea6c0a2"
   },
   "source": [
    "#### Numerical\n",
    "Questions:\n",
    "* Q1: How many kids survived to the accident?\n",
    "* Q2: Pclass feature is important?\n",
    "* Q3: Which is the biggest cabin number?\n",
    "* Q4: Which is the proportion depending on the Fare of the passengers?"
   ]
  },
  {
   "cell_type": "code",
   "execution_count": null,
   "metadata": {
    "_cell_guid": "d517a535-f4c2-4377-80d2-2b51ddda4782",
    "_uuid": "d21fcde6a39dd5c073efab5e9a6e348bdeff2f28",
    "scrolled": true
   },
   "outputs": [],
   "source": [
    "\"\"\"Plot Example\"\"\"\n",
    "# Example Survived/Age\n",
    "sns.distplot(train_data[\"age\"].dropna());\n",
    "# X-axis Label\n",
    "plt.xlabel('Survived or Not Survived?', fontsize=14);\n",
    "# Y-axis Label\n",
    "plt.ylabel(\"Age\", fontsize=14);\n",
    "# Printing Chart\n",
    "plt.show()\n"
   ]
  },
  {
   "cell_type": "code",
   "execution_count": null,
   "metadata": {},
   "outputs": [],
   "source": [
    "\"\"\" Your work \"\"\"\n",
    "# Questions"
   ]
  },
  {
   "cell_type": "markdown",
   "metadata": {
    "_cell_guid": "b7ebed9d-269f-4b47-ad7e-c01e0362b335",
    "_uuid": "1536d685891608908143f3f0b91fc2ef2a9d1968"
   },
   "source": [
    "#### Categorical\n",
    "Questions:\n",
    "* Q1:  How many woman/man died?\n",
    "* Q2:  Where did the most people embark?\n",
    "* Q3:  How many johns are in the boat?\n",
    "* Q4:  How many embarked places exist?\n",
    "* Q5:  Name repetitions"
   ]
  },
  {
   "cell_type": "code",
   "execution_count": null,
   "metadata": {
    "_cell_guid": "165720a2-6f20-48a7-8718-5a0d048d1a3b",
    "_uuid": "6d738bf1792054153a06501f238d5b6a9c2af581"
   },
   "outputs": [],
   "source": [
    "\"\"\"Plot Example\"\"\"\n",
    "ax = sns.countplot(x=\"sex\", data=train_data);\n",
    "# X-axis Label\n",
    "plt.xlabel(\"Sex\", fontsize=14);\n",
    "# Y-axis Label\n",
    "plt.ylabel('Number of occurrences', fontsize=14)\n",
    "# Setting Legend location \n",
    "plt.legend(loc=1);\n",
    "\n",
    "# Add percents over bars\n",
    "# Get heights of our bars\n",
    "height = [p.get_height() if p.get_height()==p.get_height() else 0 for p in ax.patches]\n",
    "# Coun number of bar groups \n",
    "ncol = int(len(height)/2)\n",
    "# Coun total height of groups\n",
    "total = [height[i] + height[i + ncol] for i in range(ncol)] * 2\n",
    "# Loop through bars\n",
    "for i, p in enumerate(ax.patches):   \n",
    "    # Adding percentages   \n",
    "    ax.text(p.get_x()+p.get_width()/2, height[i]*1.01 + 10,\n",
    "        '{:1.0%}'.format(height[i]/float(total[i])), ha=\"center\", size=14) \n",
    "\n",
    "plt.show()\n",
    "    "
   ]
  },
  {
   "cell_type": "code",
   "execution_count": null,
   "metadata": {},
   "outputs": [],
   "source": [
    "\"\"\" Your work \"\"\"\n",
    "# Questions"
   ]
  },
  {
   "cell_type": "markdown",
   "metadata": {
    "_cell_guid": "85cbde82-ed9f-400c-8ef4-9122990ecec9",
    "_uuid": "aee7e44e49c0a64abe2c99cfb23cd267cea8de53"
   },
   "source": [
    "### 1.3 Fill missing data\n",
    "Objectives:\n",
    "* Think in how to fill missing data\n",
    "    Ex: Missing Embarked can be filled depending on the Fare?\n",
    "*  Discuss the importance of fill the missing data\n"
   ]
  },
  {
   "cell_type": "code",
   "execution_count": null,
   "metadata": {
    "_cell_guid": "0d90097a-41df-4498-97de-7ba950b0943e",
    "_uuid": "9c6997afd3a72b2fe8683120f39e7bd584198fcd",
    "scrolled": true
   },
   "outputs": [],
   "source": [
    "# ToDo 1: Show the missing data for each feature\n",
    "train_data.info()\n",
    "\n",
    "# ToDo 2: Propose at least one method to fill the missing data of one feature"
   ]
  },
  {
   "cell_type": "markdown",
   "metadata": {
    "_cell_guid": "c4ff0997-d1ba-45b9-ba70-97383462c7ed",
    "_uuid": "2d4b8d3f19f426325a7ddcfc914cd00f1d6461e2"
   },
   "source": [
    "# 2. First prediction"
   ]
  },
  {
   "cell_type": "code",
   "execution_count": null,
   "metadata": {
    "collapsed": true
   },
   "outputs": [],
   "source": [
    "# ToDo 1: Use the gender feature to classify the test_data\n",
    "test_data[\"survived\"] = 0\n",
    "test_data.loc[test_data[\"fare\"] > 9 , \"survived\"] = 1\n"
   ]
  },
  {
   "cell_type": "code",
   "execution_count": null,
   "metadata": {},
   "outputs": [],
   "source": [
    "from utils import accuracy_score\n",
    "# Compute the accuracy of your first predicter\n",
    "print \"Current accuracy: %f\" % accuracy_score(test_data)"
   ]
  }
 ],
 "metadata": {
  "kernelspec": {
   "display_name": "Python 2",
   "language": "python",
   "name": "python2"
  },
  "language_info": {
   "codemirror_mode": {
    "name": "ipython",
    "version": 2
   },
   "file_extension": ".py",
   "mimetype": "text/x-python",
   "name": "python",
   "nbconvert_exporter": "python",
   "pygments_lexer": "ipython2",
   "version": "2.7.13"
  }
 },
 "nbformat": 4,
 "nbformat_minor": 1
}
